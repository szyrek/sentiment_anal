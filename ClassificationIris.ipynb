{
  "nbformat": 4,
  "nbformat_minor": 0,
  "metadata": {
    "colab": {
      "provenance": [],
      "authorship_tag": "ABX9TyOYyea66g++fxHkOpJf/sKi",
      "include_colab_link": true
    },
    "kernelspec": {
      "name": "python3",
      "display_name": "Python 3"
    },
    "language_info": {
      "name": "python"
    }
  },
  "cells": [
    {
      "cell_type": "markdown",
      "metadata": {
        "id": "view-in-github",
        "colab_type": "text"
      },
      "source": [
        "<a href=\"https://colab.research.google.com/github/szyrek/sentiment_anal/blob/main/ClassificationIris.ipynb\" target=\"_parent\"><img src=\"https://colab.research.google.com/assets/colab-badge.svg\" alt=\"Open In Colab\"/></a>"
      ]
    },
    {
      "cell_type": "code",
      "execution_count": 1,
      "metadata": {
        "colab": {
          "base_uri": "https://localhost:8080/"
        },
        "id": "dydEwW0QkHeX",
        "outputId": "860e4133-ae46-47cb-f268-fc60a4b6b861"
      },
      "outputs": [
        {
          "output_type": "stream",
          "name": "stderr",
          "text": [
            "/usr/local/lib/python3.10/dist-packages/sklearn/preprocessing/_encoders.py:868: FutureWarning: `sparse` was renamed to `sparse_output` in version 1.2 and will be removed in 1.4. `sparse_output` is ignored unless you leave `sparse` to its default value.\n",
            "  warnings.warn(\n"
          ]
        }
      ],
      "source": [
        "from sklearn.datasets import load_iris\n",
        "from sklearn.model_selection import train_test_split\n",
        "from sklearn.preprocessing import StandardScaler, OneHotEncoder\n",
        "import numpy as np\n",
        "\n",
        "# Load the Iris dataset\n",
        "iris_data = load_iris()\n",
        "X = iris_data.data\n",
        "y = iris_data.target\n",
        "\n",
        "# Split the dataset into training and testing sets\n",
        "X_train, X_test, y_train, y_test = train_test_split(X, y, test_size=0.2, random_state=42)\n",
        "\n",
        "# Standardize features\n",
        "scaler = StandardScaler()\n",
        "X_train = scaler.fit_transform(X_train)\n",
        "X_test = scaler.transform(X_test)\n",
        "\n",
        "# One-hot encode the target labels\n",
        "onehot_encoder = OneHotEncoder(sparse=False)\n",
        "y_train = onehot_encoder.fit_transform(y_train.reshape(-1, 1))\n",
        "y_test = onehot_encoder.transform(y_test.reshape(-1, 1))\n"
      ]
    },
    {
      "cell_type": "code",
      "source": [
        "from tensorflow.keras.models import Sequential\n",
        "from tensorflow.keras.layers import Dense\n",
        "\n",
        "# Build the neural network model\n",
        "model = Sequential([\n",
        "    Dense(10, activation='relu', input_shape=(4,)),\n",
        "    Dense(10, activation='relu'),\n",
        "    Dense(3, activation='softmax')\n",
        "])\n",
        "\n",
        "# Compile the model\n",
        "model.compile(optimizer='adam', loss='categorical_crossentropy', metrics=['accuracy'])\n",
        "\n",
        "# Train the model\n",
        "history = model.fit(X_train, y_train, epochs=100, batch_size=5, validation_data=(X_test, y_test), verbose=2)\n"
      ],
      "metadata": {
        "colab": {
          "base_uri": "https://localhost:8080/"
        },
        "id": "5C5ZjBTHkX4y",
        "outputId": "99df3cdd-4a89-4ea7-ab9d-4e660a19d4a7"
      },
      "execution_count": 2,
      "outputs": [
        {
          "output_type": "stream",
          "name": "stdout",
          "text": [
            "Epoch 1/100\n",
            "24/24 - 1s - loss: 1.1874 - accuracy: 0.3333 - val_loss: 1.0675 - val_accuracy: 0.3667 - 1s/epoch - 61ms/step\n",
            "Epoch 2/100\n",
            "24/24 - 0s - loss: 1.0398 - accuracy: 0.4083 - val_loss: 0.9541 - val_accuracy: 0.4667 - 113ms/epoch - 5ms/step\n",
            "Epoch 3/100\n",
            "24/24 - 0s - loss: 0.9407 - accuracy: 0.6583 - val_loss: 0.8673 - val_accuracy: 0.7333 - 160ms/epoch - 7ms/step\n",
            "Epoch 4/100\n",
            "24/24 - 0s - loss: 0.8592 - accuracy: 0.7750 - val_loss: 0.7854 - val_accuracy: 0.8000 - 200ms/epoch - 8ms/step\n",
            "Epoch 5/100\n",
            "24/24 - 0s - loss: 0.7839 - accuracy: 0.7833 - val_loss: 0.7050 - val_accuracy: 0.8333 - 308ms/epoch - 13ms/step\n",
            "Epoch 6/100\n",
            "24/24 - 0s - loss: 0.7114 - accuracy: 0.8000 - val_loss: 0.6345 - val_accuracy: 0.8333 - 368ms/epoch - 15ms/step\n",
            "Epoch 7/100\n",
            "24/24 - 0s - loss: 0.6452 - accuracy: 0.8000 - val_loss: 0.5693 - val_accuracy: 0.8333 - 471ms/epoch - 20ms/step\n",
            "Epoch 8/100\n",
            "24/24 - 0s - loss: 0.5880 - accuracy: 0.8083 - val_loss: 0.5129 - val_accuracy: 0.8333 - 203ms/epoch - 8ms/step\n",
            "Epoch 9/100\n",
            "24/24 - 0s - loss: 0.5367 - accuracy: 0.8167 - val_loss: 0.4648 - val_accuracy: 0.8667 - 248ms/epoch - 10ms/step\n",
            "Epoch 10/100\n",
            "24/24 - 0s - loss: 0.4925 - accuracy: 0.8250 - val_loss: 0.4202 - val_accuracy: 0.8667 - 289ms/epoch - 12ms/step\n",
            "Epoch 11/100\n",
            "24/24 - 0s - loss: 0.4541 - accuracy: 0.8500 - val_loss: 0.3843 - val_accuracy: 0.9000 - 252ms/epoch - 10ms/step\n",
            "Epoch 12/100\n",
            "24/24 - 0s - loss: 0.4228 - accuracy: 0.8417 - val_loss: 0.3549 - val_accuracy: 0.9000 - 279ms/epoch - 12ms/step\n",
            "Epoch 13/100\n",
            "24/24 - 0s - loss: 0.3934 - accuracy: 0.8750 - val_loss: 0.3272 - val_accuracy: 0.9333 - 251ms/epoch - 10ms/step\n",
            "Epoch 14/100\n",
            "24/24 - 0s - loss: 0.3694 - accuracy: 0.8750 - val_loss: 0.3047 - val_accuracy: 0.9333 - 233ms/epoch - 10ms/step\n",
            "Epoch 15/100\n",
            "24/24 - 0s - loss: 0.3508 - accuracy: 0.8833 - val_loss: 0.2865 - val_accuracy: 0.9333 - 253ms/epoch - 11ms/step\n",
            "Epoch 16/100\n",
            "24/24 - 0s - loss: 0.3313 - accuracy: 0.9000 - val_loss: 0.2673 - val_accuracy: 0.9333 - 304ms/epoch - 13ms/step\n",
            "Epoch 17/100\n",
            "24/24 - 0s - loss: 0.3142 - accuracy: 0.9000 - val_loss: 0.2517 - val_accuracy: 0.9333 - 222ms/epoch - 9ms/step\n",
            "Epoch 18/100\n",
            "24/24 - 0s - loss: 0.2983 - accuracy: 0.9083 - val_loss: 0.2377 - val_accuracy: 0.9667 - 161ms/epoch - 7ms/step\n",
            "Epoch 19/100\n",
            "24/24 - 0s - loss: 0.2867 - accuracy: 0.9167 - val_loss: 0.2251 - val_accuracy: 0.9667 - 141ms/epoch - 6ms/step\n",
            "Epoch 20/100\n",
            "24/24 - 0s - loss: 0.2727 - accuracy: 0.9167 - val_loss: 0.2122 - val_accuracy: 0.9667 - 146ms/epoch - 6ms/step\n",
            "Epoch 21/100\n",
            "24/24 - 0s - loss: 0.2604 - accuracy: 0.9167 - val_loss: 0.2013 - val_accuracy: 0.9667 - 145ms/epoch - 6ms/step\n",
            "Epoch 22/100\n",
            "24/24 - 0s - loss: 0.2490 - accuracy: 0.9250 - val_loss: 0.1922 - val_accuracy: 0.9667 - 186ms/epoch - 8ms/step\n",
            "Epoch 23/100\n",
            "24/24 - 0s - loss: 0.2406 - accuracy: 0.9250 - val_loss: 0.1827 - val_accuracy: 0.9667 - 146ms/epoch - 6ms/step\n",
            "Epoch 24/100\n",
            "24/24 - 0s - loss: 0.2292 - accuracy: 0.9333 - val_loss: 0.1747 - val_accuracy: 0.9667 - 101ms/epoch - 4ms/step\n",
            "Epoch 25/100\n",
            "24/24 - 0s - loss: 0.2219 - accuracy: 0.9417 - val_loss: 0.1688 - val_accuracy: 0.9667 - 99ms/epoch - 4ms/step\n",
            "Epoch 26/100\n",
            "24/24 - 0s - loss: 0.2158 - accuracy: 0.9500 - val_loss: 0.1596 - val_accuracy: 0.9667 - 94ms/epoch - 4ms/step\n",
            "Epoch 27/100\n",
            "24/24 - 0s - loss: 0.2044 - accuracy: 0.9583 - val_loss: 0.1540 - val_accuracy: 0.9667 - 99ms/epoch - 4ms/step\n",
            "Epoch 28/100\n",
            "24/24 - 0s - loss: 0.1964 - accuracy: 0.9583 - val_loss: 0.1467 - val_accuracy: 0.9667 - 88ms/epoch - 4ms/step\n",
            "Epoch 29/100\n",
            "24/24 - 0s - loss: 0.1902 - accuracy: 0.9500 - val_loss: 0.1409 - val_accuracy: 0.9667 - 95ms/epoch - 4ms/step\n",
            "Epoch 30/100\n",
            "24/24 - 0s - loss: 0.1847 - accuracy: 0.9500 - val_loss: 0.1348 - val_accuracy: 1.0000 - 92ms/epoch - 4ms/step\n",
            "Epoch 31/100\n",
            "24/24 - 0s - loss: 0.1758 - accuracy: 0.9500 - val_loss: 0.1304 - val_accuracy: 1.0000 - 99ms/epoch - 4ms/step\n",
            "Epoch 32/100\n",
            "24/24 - 0s - loss: 0.1688 - accuracy: 0.9667 - val_loss: 0.1255 - val_accuracy: 1.0000 - 99ms/epoch - 4ms/step\n",
            "Epoch 33/100\n",
            "24/24 - 0s - loss: 0.1628 - accuracy: 0.9667 - val_loss: 0.1202 - val_accuracy: 1.0000 - 109ms/epoch - 5ms/step\n",
            "Epoch 34/100\n",
            "24/24 - 0s - loss: 0.1596 - accuracy: 0.9667 - val_loss: 0.1165 - val_accuracy: 1.0000 - 98ms/epoch - 4ms/step\n",
            "Epoch 35/100\n",
            "24/24 - 0s - loss: 0.1533 - accuracy: 0.9500 - val_loss: 0.1117 - val_accuracy: 1.0000 - 84ms/epoch - 4ms/step\n",
            "Epoch 36/100\n",
            "24/24 - 0s - loss: 0.1499 - accuracy: 0.9500 - val_loss: 0.1099 - val_accuracy: 1.0000 - 84ms/epoch - 4ms/step\n",
            "Epoch 37/100\n",
            "24/24 - 0s - loss: 0.1434 - accuracy: 0.9583 - val_loss: 0.1059 - val_accuracy: 1.0000 - 150ms/epoch - 6ms/step\n",
            "Epoch 38/100\n",
            "24/24 - 0s - loss: 0.1392 - accuracy: 0.9583 - val_loss: 0.1012 - val_accuracy: 1.0000 - 109ms/epoch - 5ms/step\n",
            "Epoch 39/100\n",
            "24/24 - 0s - loss: 0.1340 - accuracy: 0.9667 - val_loss: 0.0991 - val_accuracy: 1.0000 - 97ms/epoch - 4ms/step\n",
            "Epoch 40/100\n",
            "24/24 - 0s - loss: 0.1308 - accuracy: 0.9667 - val_loss: 0.0980 - val_accuracy: 1.0000 - 99ms/epoch - 4ms/step\n",
            "Epoch 41/100\n",
            "24/24 - 0s - loss: 0.1271 - accuracy: 0.9750 - val_loss: 0.0936 - val_accuracy: 1.0000 - 102ms/epoch - 4ms/step\n",
            "Epoch 42/100\n",
            "24/24 - 0s - loss: 0.1245 - accuracy: 0.9667 - val_loss: 0.0929 - val_accuracy: 1.0000 - 112ms/epoch - 5ms/step\n",
            "Epoch 43/100\n",
            "24/24 - 0s - loss: 0.1199 - accuracy: 0.9667 - val_loss: 0.0895 - val_accuracy: 1.0000 - 98ms/epoch - 4ms/step\n",
            "Epoch 44/100\n",
            "24/24 - 0s - loss: 0.1172 - accuracy: 0.9667 - val_loss: 0.0866 - val_accuracy: 1.0000 - 98ms/epoch - 4ms/step\n",
            "Epoch 45/100\n",
            "24/24 - 0s - loss: 0.1161 - accuracy: 0.9667 - val_loss: 0.0836 - val_accuracy: 1.0000 - 96ms/epoch - 4ms/step\n",
            "Epoch 46/100\n",
            "24/24 - 0s - loss: 0.1115 - accuracy: 0.9667 - val_loss: 0.0855 - val_accuracy: 1.0000 - 93ms/epoch - 4ms/step\n",
            "Epoch 47/100\n",
            "24/24 - 0s - loss: 0.1091 - accuracy: 0.9667 - val_loss: 0.0833 - val_accuracy: 1.0000 - 81ms/epoch - 3ms/step\n",
            "Epoch 48/100\n",
            "24/24 - 0s - loss: 0.1063 - accuracy: 0.9667 - val_loss: 0.0809 - val_accuracy: 1.0000 - 104ms/epoch - 4ms/step\n",
            "Epoch 49/100\n",
            "24/24 - 0s - loss: 0.1044 - accuracy: 0.9667 - val_loss: 0.0800 - val_accuracy: 1.0000 - 103ms/epoch - 4ms/step\n",
            "Epoch 50/100\n",
            "24/24 - 0s - loss: 0.1016 - accuracy: 0.9667 - val_loss: 0.0766 - val_accuracy: 1.0000 - 103ms/epoch - 4ms/step\n",
            "Epoch 51/100\n",
            "24/24 - 0s - loss: 0.0999 - accuracy: 0.9583 - val_loss: 0.0770 - val_accuracy: 1.0000 - 100ms/epoch - 4ms/step\n",
            "Epoch 52/100\n",
            "24/24 - 0s - loss: 0.0974 - accuracy: 0.9583 - val_loss: 0.0732 - val_accuracy: 1.0000 - 114ms/epoch - 5ms/step\n",
            "Epoch 53/100\n",
            "24/24 - 0s - loss: 0.0959 - accuracy: 0.9667 - val_loss: 0.0733 - val_accuracy: 1.0000 - 82ms/epoch - 3ms/step\n",
            "Epoch 54/100\n",
            "24/24 - 0s - loss: 0.0948 - accuracy: 0.9667 - val_loss: 0.0730 - val_accuracy: 1.0000 - 97ms/epoch - 4ms/step\n",
            "Epoch 55/100\n",
            "24/24 - 0s - loss: 0.0913 - accuracy: 0.9667 - val_loss: 0.0692 - val_accuracy: 1.0000 - 101ms/epoch - 4ms/step\n",
            "Epoch 56/100\n",
            "24/24 - 0s - loss: 0.0900 - accuracy: 0.9667 - val_loss: 0.0677 - val_accuracy: 1.0000 - 98ms/epoch - 4ms/step\n",
            "Epoch 57/100\n",
            "24/24 - 0s - loss: 0.0882 - accuracy: 0.9667 - val_loss: 0.0672 - val_accuracy: 1.0000 - 96ms/epoch - 4ms/step\n",
            "Epoch 58/100\n",
            "24/24 - 0s - loss: 0.0871 - accuracy: 0.9667 - val_loss: 0.0669 - val_accuracy: 1.0000 - 83ms/epoch - 3ms/step\n",
            "Epoch 59/100\n",
            "24/24 - 0s - loss: 0.0860 - accuracy: 0.9667 - val_loss: 0.0658 - val_accuracy: 1.0000 - 86ms/epoch - 4ms/step\n",
            "Epoch 60/100\n",
            "24/24 - 0s - loss: 0.0842 - accuracy: 0.9667 - val_loss: 0.0656 - val_accuracy: 1.0000 - 104ms/epoch - 4ms/step\n",
            "Epoch 61/100\n",
            "24/24 - 0s - loss: 0.0826 - accuracy: 0.9667 - val_loss: 0.0638 - val_accuracy: 1.0000 - 83ms/epoch - 3ms/step\n",
            "Epoch 62/100\n",
            "24/24 - 0s - loss: 0.0816 - accuracy: 0.9583 - val_loss: 0.0615 - val_accuracy: 1.0000 - 136ms/epoch - 6ms/step\n",
            "Epoch 63/100\n",
            "24/24 - 0s - loss: 0.0808 - accuracy: 0.9583 - val_loss: 0.0633 - val_accuracy: 1.0000 - 87ms/epoch - 4ms/step\n",
            "Epoch 64/100\n",
            "24/24 - 0s - loss: 0.0799 - accuracy: 0.9667 - val_loss: 0.0613 - val_accuracy: 1.0000 - 86ms/epoch - 4ms/step\n",
            "Epoch 65/100\n",
            "24/24 - 0s - loss: 0.0780 - accuracy: 0.9583 - val_loss: 0.0597 - val_accuracy: 1.0000 - 100ms/epoch - 4ms/step\n",
            "Epoch 66/100\n",
            "24/24 - 0s - loss: 0.0809 - accuracy: 0.9667 - val_loss: 0.0630 - val_accuracy: 1.0000 - 99ms/epoch - 4ms/step\n",
            "Epoch 67/100\n",
            "24/24 - 0s - loss: 0.0764 - accuracy: 0.9750 - val_loss: 0.0605 - val_accuracy: 1.0000 - 83ms/epoch - 3ms/step\n",
            "Epoch 68/100\n",
            "24/24 - 0s - loss: 0.0760 - accuracy: 0.9583 - val_loss: 0.0599 - val_accuracy: 1.0000 - 96ms/epoch - 4ms/step\n",
            "Epoch 69/100\n",
            "24/24 - 0s - loss: 0.0748 - accuracy: 0.9583 - val_loss: 0.0584 - val_accuracy: 1.0000 - 100ms/epoch - 4ms/step\n",
            "Epoch 70/100\n",
            "24/24 - 0s - loss: 0.0736 - accuracy: 0.9583 - val_loss: 0.0568 - val_accuracy: 1.0000 - 101ms/epoch - 4ms/step\n",
            "Epoch 71/100\n",
            "24/24 - 0s - loss: 0.0724 - accuracy: 0.9583 - val_loss: 0.0571 - val_accuracy: 1.0000 - 105ms/epoch - 4ms/step\n",
            "Epoch 72/100\n",
            "24/24 - 0s - loss: 0.0728 - accuracy: 0.9667 - val_loss: 0.0583 - val_accuracy: 1.0000 - 108ms/epoch - 5ms/step\n",
            "Epoch 73/100\n",
            "24/24 - 0s - loss: 0.0704 - accuracy: 0.9750 - val_loss: 0.0566 - val_accuracy: 1.0000 - 93ms/epoch - 4ms/step\n",
            "Epoch 74/100\n",
            "24/24 - 0s - loss: 0.0703 - accuracy: 0.9750 - val_loss: 0.0560 - val_accuracy: 1.0000 - 101ms/epoch - 4ms/step\n",
            "Epoch 75/100\n",
            "24/24 - 0s - loss: 0.0686 - accuracy: 0.9750 - val_loss: 0.0546 - val_accuracy: 1.0000 - 108ms/epoch - 5ms/step\n",
            "Epoch 76/100\n",
            "24/24 - 0s - loss: 0.0688 - accuracy: 0.9833 - val_loss: 0.0530 - val_accuracy: 1.0000 - 97ms/epoch - 4ms/step\n",
            "Epoch 77/100\n",
            "24/24 - 0s - loss: 0.0694 - accuracy: 0.9750 - val_loss: 0.0552 - val_accuracy: 1.0000 - 96ms/epoch - 4ms/step\n",
            "Epoch 78/100\n",
            "24/24 - 0s - loss: 0.0667 - accuracy: 0.9750 - val_loss: 0.0540 - val_accuracy: 1.0000 - 94ms/epoch - 4ms/step\n",
            "Epoch 79/100\n",
            "24/24 - 0s - loss: 0.0663 - accuracy: 0.9750 - val_loss: 0.0533 - val_accuracy: 1.0000 - 100ms/epoch - 4ms/step\n",
            "Epoch 80/100\n",
            "24/24 - 0s - loss: 0.0658 - accuracy: 0.9750 - val_loss: 0.0513 - val_accuracy: 1.0000 - 102ms/epoch - 4ms/step\n",
            "Epoch 81/100\n",
            "24/24 - 0s - loss: 0.0656 - accuracy: 0.9750 - val_loss: 0.0523 - val_accuracy: 1.0000 - 108ms/epoch - 5ms/step\n",
            "Epoch 82/100\n",
            "24/24 - 0s - loss: 0.0646 - accuracy: 0.9750 - val_loss: 0.0521 - val_accuracy: 1.0000 - 103ms/epoch - 4ms/step\n",
            "Epoch 83/100\n",
            "24/24 - 0s - loss: 0.0645 - accuracy: 0.9833 - val_loss: 0.0505 - val_accuracy: 1.0000 - 99ms/epoch - 4ms/step\n",
            "Epoch 84/100\n",
            "24/24 - 0s - loss: 0.0633 - accuracy: 0.9750 - val_loss: 0.0484 - val_accuracy: 1.0000 - 99ms/epoch - 4ms/step\n",
            "Epoch 85/100\n",
            "24/24 - 0s - loss: 0.0645 - accuracy: 0.9750 - val_loss: 0.0506 - val_accuracy: 1.0000 - 116ms/epoch - 5ms/step\n",
            "Epoch 86/100\n",
            "24/24 - 0s - loss: 0.0624 - accuracy: 0.9750 - val_loss: 0.0501 - val_accuracy: 1.0000 - 115ms/epoch - 5ms/step\n",
            "Epoch 87/100\n",
            "24/24 - 0s - loss: 0.0625 - accuracy: 0.9750 - val_loss: 0.0490 - val_accuracy: 1.0000 - 91ms/epoch - 4ms/step\n",
            "Epoch 88/100\n",
            "24/24 - 0s - loss: 0.0617 - accuracy: 0.9750 - val_loss: 0.0487 - val_accuracy: 1.0000 - 103ms/epoch - 4ms/step\n",
            "Epoch 89/100\n",
            "24/24 - 0s - loss: 0.0618 - accuracy: 0.9750 - val_loss: 0.0474 - val_accuracy: 1.0000 - 106ms/epoch - 4ms/step\n",
            "Epoch 90/100\n",
            "24/24 - 0s - loss: 0.0630 - accuracy: 0.9750 - val_loss: 0.0476 - val_accuracy: 1.0000 - 93ms/epoch - 4ms/step\n",
            "Epoch 91/100\n",
            "24/24 - 0s - loss: 0.0603 - accuracy: 0.9750 - val_loss: 0.0457 - val_accuracy: 1.0000 - 105ms/epoch - 4ms/step\n",
            "Epoch 92/100\n",
            "24/24 - 0s - loss: 0.0601 - accuracy: 0.9833 - val_loss: 0.0459 - val_accuracy: 1.0000 - 99ms/epoch - 4ms/step\n",
            "Epoch 93/100\n",
            "24/24 - 0s - loss: 0.0596 - accuracy: 0.9750 - val_loss: 0.0477 - val_accuracy: 1.0000 - 102ms/epoch - 4ms/step\n",
            "Epoch 94/100\n",
            "24/24 - 0s - loss: 0.0601 - accuracy: 0.9750 - val_loss: 0.0454 - val_accuracy: 1.0000 - 107ms/epoch - 4ms/step\n",
            "Epoch 95/100\n",
            "24/24 - 0s - loss: 0.0615 - accuracy: 0.9667 - val_loss: 0.0470 - val_accuracy: 1.0000 - 107ms/epoch - 4ms/step\n",
            "Epoch 96/100\n",
            "24/24 - 0s - loss: 0.0579 - accuracy: 0.9750 - val_loss: 0.0466 - val_accuracy: 1.0000 - 100ms/epoch - 4ms/step\n",
            "Epoch 97/100\n",
            "24/24 - 0s - loss: 0.0587 - accuracy: 0.9750 - val_loss: 0.0447 - val_accuracy: 1.0000 - 113ms/epoch - 5ms/step\n",
            "Epoch 98/100\n",
            "24/24 - 0s - loss: 0.0591 - accuracy: 0.9750 - val_loss: 0.0438 - val_accuracy: 1.0000 - 118ms/epoch - 5ms/step\n",
            "Epoch 99/100\n",
            "24/24 - 0s - loss: 0.0573 - accuracy: 0.9833 - val_loss: 0.0467 - val_accuracy: 1.0000 - 111ms/epoch - 5ms/step\n",
            "Epoch 100/100\n",
            "24/24 - 0s - loss: 0.0570 - accuracy: 0.9750 - val_loss: 0.0446 - val_accuracy: 1.0000 - 115ms/epoch - 5ms/step\n"
          ]
        }
      ]
    },
    {
      "cell_type": "code",
      "source": [
        "import matplotlib.pyplot as plt\n",
        "\n",
        "# Evaluate the model on the testing data\n",
        "loss, accuracy = model.evaluate(X_test, y_test)\n",
        "print(f\"Test Loss: {loss:.4f}\")\n",
        "print(f\"Test Accuracy: {accuracy:.4f}\")\n",
        "\n",
        "# Visualize training history\n",
        "plt.plot(history.history['accuracy'], label='Training Accuracy')\n",
        "plt.plot(history.history['val_accuracy'], label='Validation Accuracy')\n",
        "plt.title('Training and Validation Accuracy')\n",
        "plt.xlabel('Epoch')\n",
        "plt.ylabel('Accuracy')\n",
        "plt.legend()\n",
        "plt.show()"
      ],
      "metadata": {
        "colab": {
          "base_uri": "https://localhost:8080/",
          "height": 524
        },
        "id": "iECopBuGka31",
        "outputId": "cc997b29-5f7b-4df0-f344-316e768d0157"
      },
      "execution_count": 3,
      "outputs": [
        {
          "output_type": "stream",
          "name": "stdout",
          "text": [
            "1/1 [==============================] - 0s 449ms/step - loss: 0.0446 - accuracy: 1.0000\n",
            "Test Loss: 0.0446\n",
            "Test Accuracy: 1.0000\n"
          ]
        },
        {
          "output_type": "display_data",
          "data": {
            "text/plain": [
              "<Figure size 640x480 with 1 Axes>"
            ],
            "image/png": "[encoded data removed]"
          },
          "metadata": {}
        }
      ]
    },
    {
      "cell_type": "code",
      "source": [
        "# Choose an example data point for visualization and prediction\n",
        "example_index = 1\n",
        "example_data = X_test[example_index]\n",
        "example_label = y_test[example_index]\n",
        "\n",
        "# Visualize the example data point\n",
        "print(\"Example Data:\")\n",
        "print(f\"Features: {example_data}\")\n",
        "print(f\"True Label: {example_label}\")\n",
        "\n",
        "# Make a single prediction\n",
        "predicted_probabilities = model.predict(np.expand_dims(example_data, axis=0))\n",
        "predicted_class = np.argmax(predicted_probabilities)\n",
        "\n",
        "print(\"\\nSingle Prediction:\")\n",
        "print(f\"Predicted Probabilities: {predicted_probabilities}\")\n",
        "print(f\"Predicted Class: {predicted_class} (Probability: {predicted_probabilities[0][predicted_class]:.4f})\")\n"
      ],
      "metadata": {
        "colab": {
          "base_uri": "https://localhost:8080/"
        },
        "id": "htjs-B-hku4m",
        "outputId": "4837d6a4-224d-446a-b3b4-f7b81f9b21f8"
      },
      "execution_count": 5,
      "outputs": [
        {
          "output_type": "stream",
          "name": "stdout",
          "text": [
            "Example Data:\n",
            "Features: [-0.13307079  1.65083742 -1.16139502 -1.17911778]\n",
            "True Label: [1. 0. 0.]\n",
            "1/1 [==============================] - 0s 36ms/step\n",
            "\n",
            "Single Prediction:\n",
            "Predicted Probabilities: [[9.9939752e-01 5.9281354e-04 9.6476188e-06]]\n",
            "Predicted Class: 0 (Probability: 0.9994)\n"
          ]
        }
      ]
    }
  ]
}