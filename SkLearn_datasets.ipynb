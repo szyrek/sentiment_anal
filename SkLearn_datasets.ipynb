{
  "nbformat": 4,
  "nbformat_minor": 0,
  "metadata": {
    "colab": {
      "provenance": [],
      "authorship_tag": "ABX9TyNz4h2imK4TC92L/rC8I64l",
      "include_colab_link": true
    },
    "kernelspec": {
      "name": "python3",
      "display_name": "Python 3"
    },
    "language_info": {
      "name": "python"
    }
  },
  "cells": [
    {
      "cell_type": "markdown",
      "metadata": {
        "id": "view-in-github",
        "colab_type": "text"
      },
      "source": [
        "<a href=\"https://colab.research.google.com/github/szyrek/sentiment_anal/blob/main/SkLearn_datasets.ipynb\" target=\"_parent\"><img src=\"https://colab.research.google.com/assets/colab-badge.svg\" alt=\"Open In Colab\"/></a>"
      ]
    },
    {
      "cell_type": "code",
      "execution_count": 5,
      "metadata": {
        "id": "jGIzIxtzNu98"
      },
      "outputs": [],
      "source": [
        "from sklearn.datasets import load_iris, load_digits, load_wine, load_breast_cancer\n",
        "\n",
        "# Load datasets\n",
        "iris = load_iris()\n",
        "digits = load_digits()\n",
        "wine = load_wine()\n",
        "breast_cancer = load_breast_cancer()"
      ]
    },
    {
      "cell_type": "code",
      "source": [
        "iris.target"
      ],
      "metadata": {
        "id": "Qrs71SRSN11B"
      },
      "execution_count": null,
      "outputs": []
    }
  ]
}