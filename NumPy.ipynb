{
  "nbformat": 4,
  "nbformat_minor": 0,
  "metadata": {
    "colab": {
      "provenance": [],
      "authorship_tag": "ABX9TyPTrB4nMAaYHdLk9E/EQc60",
      "include_colab_link": true
    },
    "kernelspec": {
      "name": "python3",
      "display_name": "Python 3"
    },
    "language_info": {
      "name": "python"
    }
  },
  "cells": [
    {
      "cell_type": "markdown",
      "metadata": {
        "id": "view-in-github",
        "colab_type": "text"
      },
      "source": [
        "<a href=\"https://colab.research.google.com/github/szyrek/sentiment_anal/blob/main/NumPy.ipynb\" target=\"_parent\"><img src=\"https://colab.research.google.com/assets/colab-badge.svg\" alt=\"Open In Colab\"/></a>"
      ]
    },
    {
      "cell_type": "code",
      "execution_count": 2,
      "metadata": {
        "colab": {
          "base_uri": "https://localhost:8080/"
        },
        "id": "N1nHHAPxuxS8",
        "outputId": "b165b5fa-dd91-427e-f613-76b3c555811c"
      },
      "outputs": [
        {
          "output_type": "stream",
          "name": "stdout",
          "text": [
            "Requirement already satisfied: numpy in /usr/local/lib/python3.10/dist-packages (1.25.2)\n",
            "1D Array:\n",
            "[1 2 3 4 5]\n",
            "\n",
            "Accessing elements:\n",
            "First element: 1\n",
            "Last element: 5\n",
            "\n",
            "2D Array:\n",
            "[[1 2 3]\n",
            " [4 5 6]]\n",
            "\n",
            "Accessing elements:\n",
            "Element at row 0, column 1: 2\n",
            "Second row: [4 5 6]\n",
            "\n",
            "Array Arithmetic:\n",
            "Addition: [5 7 9]\n",
            "Subtraction: [-3 -3 -3]\n",
            "Multiplication: [ 4 10 18]\n",
            "Division: [0.25 0.4  0.5 ]\n",
            "\n",
            "Array Slicing:\n",
            "First three elements: [1 2 3]\n",
            "Elements from index 1 to 3: [5 6]\n"
          ]
        }
      ],
      "source": [
        "\n",
        "# Install NumPy (only needed if not already installed)\n",
        "!pip install numpy\n",
        "\n",
        "# Import NumPy\n",
        "import numpy as np\n",
        "\n",
        "# Create a 1D NumPy array\n",
        "array_1d = np.array([1, 2, 3, 4, 5])\n",
        "print(\"1D Array:\")\n",
        "print(array_1d)\n",
        "\n",
        "# Accessing elements of a 1D array\n",
        "print(\"\\nAccessing elements:\")\n",
        "print(\"First element:\", array_1d[0])\n",
        "print(\"Last element:\", array_1d[-1])\n",
        "\n",
        "# Create a 2D NumPy array\n",
        "array_2d = np.array([[1, 2, 3], [4, 5, 6]])\n",
        "print(\"\\n2D Array:\")\n",
        "print(array_2d)\n",
        "\n",
        "# Accessing elements of a 2D array\n",
        "print(\"\\nAccessing elements:\")\n",
        "print(\"Element at row 0, column 1:\", array_2d[0, 1])\n",
        "print(\"Second row:\", array_2d[1, :])\n",
        "\n",
        "# Array arithmetic operations\n",
        "array1 = np.array([1, 2, 3])\n",
        "array2 = np.array([4, 5, 6])\n",
        "print(\"\\nArray Arithmetic:\")\n",
        "print(\"Addition:\", array1 + array2)\n",
        "print(\"Subtraction:\", array1 - array2)\n",
        "print(\"Multiplication:\", array1 * array2)\n",
        "print(\"Division:\", array1 / array2)\n",
        "\n",
        "# Array slicing\n",
        "print(\"\\nArray Slicing:\")\n",
        "print(\"First three elements:\", array1[:3])\n",
        "print(\"Elements from index 1 to 3:\", array2[1:3])"
      ]
    }
  ]
}