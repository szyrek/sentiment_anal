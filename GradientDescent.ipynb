{
  "nbformat": 4,
  "nbformat_minor": 0,
  "metadata": {
    "colab": {
      "provenance": [],
      "authorship_tag": "ABX9TyOq9dMMgyUpYX2hFc8OHmJl",
      "include_colab_link": true
    },
    "kernelspec": {
      "name": "python3",
      "display_name": "Python 3"
    },
    "language_info": {
      "name": "python"
    }
  },
  "cells": [
    {
      "cell_type": "markdown",
      "metadata": {
        "id": "view-in-github",
        "colab_type": "text"
      },
      "source": [
        "<a href=\"https://colab.research.google.com/github/szyrek/sentiment_anal/blob/main/GradientDescent.ipynb\" target=\"_parent\"><img src=\"https://colab.research.google.com/assets/colab-badge.svg\" alt=\"Open In Colab\"/></a>"
      ]
    },
    {
      "cell_type": "markdown",
      "source": [
        "\n",
        "**Linear regression** is a basic and commonly used type of predictive analysis. It's used to model the relationship between two variables by fitting a linear equation to observed data. One variable is considered to be an independent variable (often denoted as \"X\") and the other is considered to be a dependent variable (often denoted as \"y\").\n",
        "\n",
        "The equation of a simple linear regression model is given by:\n",
        "\n",
        "$y = mx + b$\n",
        "\n",
        "Where:\n",
        "\n",
        "y is the dependent variable.\n",
        "\n",
        "x is the independent variable.\n",
        "\n",
        "m is the slope of the line.\n",
        "\n",
        "b is the y-intercept."
      ],
      "metadata": {
        "id": "f28ivdukPh48"
      }
    },
    {
      "cell_type": "code",
      "execution_count": 1,
      "metadata": {
        "colab": {
          "base_uri": "https://localhost:8080/",
          "height": 472
        },
        "id": "DXf56Uc5N77I",
        "outputId": "2e7ca548-2bf0-428d-bd78-f43dab93c629"
      },
      "outputs": [
        {
          "output_type": "display_data",
          "data": {
            "text/plain": [
              "<Figure size 640x480 with 1 Axes>"
            ],
            "image/png": "[encoded data removed]"
          },
          "metadata": {}
        }
      ],
      "source": [
        "import numpy as np\n",
        "import matplotlib.pyplot as plt\n",
        "\n",
        "# Generate synthetic data\n",
        "np.random.seed(0)\n",
        "X = 2 * np.random.rand(100, 1)\n",
        "y = 4 + 3 * X + np.random.randn(100, 1)\n",
        "\n",
        "# Plot the data\n",
        "plt.scatter(X, y)\n",
        "plt.xlabel('X')\n",
        "plt.ylabel('y')\n",
        "plt.title('Synthetic Data')\n",
        "plt.show()\n"
      ]
    },
    {
      "cell_type": "markdown",
      "source": [
        "**Ordinary Least Squares (OLS) Method:**\n",
        "\n",
        "The Ordinary Least Squares method aims to minimize the sum of squared differences between the observed and predicted values. This is achieved by finding the values of m and b that minimize the sum of the squared residuals."
      ],
      "metadata": {
        "id": "xkmiL_83P2xr"
      }
    },
    {
      "cell_type": "code",
      "source": [
        "# Add bias term to X\n",
        "X_b = np.c_[np.ones((100, 1)), X]\n",
        "\n",
        "# Calculate parameters using OLS method\n",
        "theta_ols = np.linalg.inv(X_b.T.dot(X_b)).dot(X_b.T).dot(y)\n",
        "\n",
        "# Extract slope and intercept\n",
        "m_ols, b_ols = theta_ols[1], theta_ols[0]\n",
        "\n",
        "print(\"Parameters calculated using Ordinary Least Squares:\")\n",
        "print(\"Slope (m_ols):\", m_ols)\n",
        "print(\"Intercept (b_ols):\", b_ols)\n"
      ],
      "metadata": {
        "colab": {
          "base_uri": "https://localhost:8080/"
        },
        "id": "weDFeZEaO5ED",
        "outputId": "c463bf90-7941-4d83-aa73-2f43d19e8dcb"
      },
      "execution_count": 2,
      "outputs": [
        {
          "output_type": "stream",
          "name": "stdout",
          "text": [
            "Parameters calculated using Ordinary Least Squares:\n",
            "Slope (m_ols): [2.96846751]\n",
            "Intercept (b_ols): [4.22215108]\n"
          ]
        }
      ]
    },
    {
      "cell_type": "markdown",
      "source": [
        "**Gradient Descent for Linear Regression:**\n",
        "\n",
        "Gradient descent is an optimization algorithm used to minimize some function by iteratively moving in the direction of steepest descent. In the context of linear regression, we can use gradient descent to find the values of m and b that minimize the cost function, which measures the difference between the predicted and actual values.\n",
        "\n",
        "We update m and b using the following formulas:\n",
        "\n",
        "$m:=m−α\n",
        "N\n",
        "1\n",
        "​\n",
        " ∑\n",
        "i=1\n",
        "N\n",
        "​\n",
        " (y\n",
        "(i)\n",
        " −(mx\n",
        "(i)\n",
        " +b))x\n",
        "(i)$\n",
        "\n",
        "$b:=b−α\n",
        "N\n",
        "1\n",
        "​\n",
        " ∑\n",
        "i=1\n",
        "N\n",
        "​\n",
        " (y\n",
        "(i)\n",
        " −(mx\n",
        "(i)\n",
        " +b))$\n",
        "\n",
        "Where:\n",
        "\n",
        "α is the learning rate.\n",
        "\n",
        "N is the number of data points.\n",
        "\n",
        "(x (i),y (i)) are the observations.\n",
        "\n",
        "\n",
        "**Batch Gradient Descent:**\n",
        "\n",
        "In Batch Gradient Descent, the parameters are updated using the gradients of the cost function with respect to the entire training dataset. It computes the gradient of the cost function with respect to the parameters for the entire training dataset at each step.\n",
        "\n",
        "**Batch Gradient Descent Algorithm:**\n",
        "\n",
        "1. Initialize the parameters randomly or with some predefined values.\n",
        "2. Calculate the gradient of the cost function with respect to the parameters using the entire training dataset.\n",
        "3. Update the parameters in the opposite direction of the gradient by a certain step size (learning rate).\n",
        "4. Repeat steps 2 and 3 until convergence or for a fixed number of iterations."
      ],
      "metadata": {
        "id": "dM0vVU-LQCNi"
      }
    },
    {
      "cell_type": "code",
      "source": [
        "# Batch Gradient Descent\n",
        "def batch_gradient_descent(X, y, theta, alpha, iterations):\n",
        "    m = len(y)\n",
        "    for iteration in range(iterations):\n",
        "        gradients = 2/m * X.T.dot(X.dot(theta) - y)\n",
        "        theta -= alpha * gradients\n",
        "    return theta\n",
        "\n",
        "# Initialize parameters and hyperparameters\n",
        "theta_batch = np.random.randn(2, 1)\n",
        "alpha = 0.01\n",
        "iterations = 1000\n",
        "\n",
        "# Perform Batch Gradient Descent\n",
        "theta_batch = batch_gradient_descent(X_b, y, theta_batch, alpha, iterations)\n",
        "\n",
        "# Extract slope and intercept\n",
        "m_gd, b_gd = theta_batch[1], theta_batch[0]\n",
        "\n",
        "print(\"Parameters calculated using Batch Gradient Descent:\")\n",
        "print(\"Slope (m_batch):\", m_gd)\n",
        "print(\"Intercept (b_batch):\", b_gd)\n"
      ],
      "metadata": {
        "colab": {
          "base_uri": "https://localhost:8080/"
        },
        "id": "cMm39ugMRY51",
        "outputId": "d33c3c15-d929-4d74-e23b-91efa27452ad"
      },
      "execution_count": 8,
      "outputs": [
        {
          "output_type": "stream",
          "name": "stdout",
          "text": [
            "Parameters calculated using Batch Gradient Descent:\n",
            "Slope (m_batch): [2.98789087]\n",
            "Intercept (b_batch): [4.20026141]\n"
          ]
        }
      ]
    },
    {
      "cell_type": "markdown",
      "source": [
        "**Stochastic Gradient Descent (SGD):**\n",
        "\n",
        "In Stochastic Gradient Descent, the parameters are updated using the gradient of the cost function with respect to a single training example at each iteration. It's computationally less expensive than Batch Gradient Descent but may exhibit more variance in the parameter updates.\n",
        "\n",
        "**Stochastic Gradient Descent Algorithm:**\n",
        "\n",
        "1. Initialize the parameters randomly or with some predefined values.\n",
        "2. Shuffle the training dataset.\n",
        "3. For each training example in the dataset:\n",
        "- Calculate the gradient of the cost function with respect to the parameters for the current training example.\n",
        "- Update the parameters in the opposite direction of the gradient by a certain step size (learning rate).\n",
        "4. Repeat step 3 for a fixed number of iterations or until convergence."
      ],
      "metadata": {
        "id": "__vr0ANKSnaP"
      }
    },
    {
      "cell_type": "code",
      "source": [
        "# Stochastic Gradient Descent (SGD)\n",
        "def stochastic_gradient_descent(X, y, theta, alpha, iterations):\n",
        "    m = len(y)\n",
        "    for iteration in range(iterations):\n",
        "        for i in range(m):\n",
        "            random_index = np.random.randint(m)\n",
        "            xi = X[random_index:random_index+1]\n",
        "            yi = y[random_index:random_index+1]\n",
        "            gradients = 2 * xi.T.dot(xi.dot(theta) - yi)\n",
        "            theta -= alpha * gradients\n",
        "    return theta\n",
        "\n",
        "# Initialize parameters and hyperparameters\n",
        "theta_sgd = np.random.randn(2, 1)\n",
        "alpha = 0.01\n",
        "iterations = 1000\n",
        "\n",
        "# Perform Stochastic Gradient Descent\n",
        "theta_sgd = stochastic_gradient_descent(X_b, y, theta_sgd, alpha, iterations)\n",
        "\n",
        "# Extract slope and intercept\n",
        "m_sgd, b_sgd = theta_sgd[1], theta_sgd[0]\n",
        "\n",
        "print(\"Parameters calculated using Stochastic Gradient Descent:\")\n",
        "print(\"Slope (m_sgd):\", m_sgd)\n",
        "print(\"Intercept (b_sgd):\", b_sgd)\n"
      ],
      "metadata": {
        "colab": {
          "base_uri": "https://localhost:8080/"
        },
        "id": "3Zv-dO79Rcy4",
        "outputId": "c6ebb833-9507-40cf-ddbd-5999ae249894"
      },
      "execution_count": 6,
      "outputs": [
        {
          "output_type": "stream",
          "name": "stdout",
          "text": [
            "Parameters calculated using Stochastic Gradient Descent:\n",
            "Slope (m_sgd): [3.04404191]\n",
            "Intercept (b_sgd): [4.24553845]\n"
          ]
        }
      ]
    },
    {
      "cell_type": "markdown",
      "source": [
        "**Mini-batch Gradient Descent:**\n",
        "\n",
        "In Mini-batch Gradient Descent, the parameters are updated using the gradient of the cost function with respect to a small batch of training examples at each iteration. It's a compromise between Batch Gradient Descent and Stochastic Gradient Descent.\n",
        "\n",
        "**Mini-batch Gradient Descent Algorithm:**\n",
        "\n",
        "1. Initialize the parameters randomly or with some predefined values.\n",
        "2. Shuffle the training dataset.\n",
        "3. Split the shuffled dataset into mini-batches.\n",
        "4. For each mini-batch in the dataset:\n",
        "- Calculate the gradient of the cost function with respect to the parameters for the current mini-batch.\n",
        "- Update the parameters in the opposite direction of the gradient by a certain step size (learning rate).\n",
        "5. Repeat step 4 for a fixed number of iterations or until convergence."
      ],
      "metadata": {
        "id": "t_MQL6OvT6kv"
      }
    },
    {
      "cell_type": "code",
      "source": [
        "# Mini-batch Gradient Descent\n",
        "def minibatch_gradient_descent(X, y, theta, alpha, iterations, batch_size):\n",
        "    m = len(y)\n",
        "    for iteration in range(iterations):\n",
        "        shuffled_indices = np.random.permutation(m)\n",
        "        X_shuffled = X[shuffled_indices]\n",
        "        y_shuffled = y[shuffled_indices]\n",
        "        for i in range(0, m, batch_size):\n",
        "            xi = X_shuffled[i:i+batch_size]\n",
        "            yi = y_shuffled[i:i+batch_size]\n",
        "            gradients = 2/batch_size * xi.T.dot(xi.dot(theta) - yi)\n",
        "            theta -= alpha * gradients\n",
        "    return theta\n",
        "\n",
        "# Initialize parameters and hyperparameters\n",
        "theta_minibatch = np.random.randn(2, 1)\n",
        "alpha = 0.01\n",
        "iterations = 1000\n",
        "batch_size = 10\n",
        "\n",
        "# Perform Mini-batch Gradient Descent\n",
        "theta_minibatch = minibatch_gradient_descent(X_b, y, theta_minibatch, alpha, iterations, batch_size)\n",
        "\n",
        "# Extract slope and intercept\n",
        "m_minibatch, b_minibatch = theta_minibatch[1], theta_minibatch[0]\n",
        "\n",
        "print(\"Parameters calculated using Mini-batch Gradient Descent:\")\n",
        "print(\"Slope (m_minibatch):\", m_minibatch)\n",
        "print(\"Intercept (b_minibatch):\", b_minibatch)\n"
      ],
      "metadata": {
        "colab": {
          "base_uri": "https://localhost:8080/"
        },
        "id": "RtvW4KxLR2go",
        "outputId": "5e359d81-0a0e-4b97-8782-ee2db1430dfb"
      },
      "execution_count": 7,
      "outputs": [
        {
          "output_type": "stream",
          "name": "stdout",
          "text": [
            "Parameters calculated using Mini-batch Gradient Descent:\n",
            "Slope (m_minibatch): [2.96941494]\n",
            "Intercept (b_minibatch): [4.2231644]\n"
          ]
        }
      ]
    },
    {
      "cell_type": "code",
      "source": [
        "# Plot the data and the fitted line\n",
        "plt.scatter(X, y)\n",
        "plt.plot(X, X_b.dot(theta_ols), label='OLS', color='red')\n",
        "plt.plot(X, X_b.dot(theta_gd), label='Gradient Descent', color='green')\n",
        "plt.xlabel('X')\n",
        "plt.ylabel('y')\n",
        "plt.title('Linear Regression')\n",
        "plt.legend()\n",
        "plt.show()\n"
      ],
      "metadata": {
        "colab": {
          "base_uri": "https://localhost:8080/",
          "height": 472
        },
        "id": "DICllZDxPElA",
        "outputId": "211f13f7-b169-4d39-9299-54cd13aadda4"
      },
      "execution_count": 4,
      "outputs": [
        {
          "output_type": "display_data",
          "data": {
            "text/plain": [
              "<Figure size 640x480 with 1 Axes>"
            ],
            "image/png": "[encoded data removed]"
          },
          "metadata": {}
        }
      ]
    },
    {
      "cell_type": "markdown",
      "source": [],
      "metadata": {
        "id": "VP9zHnPDN9gG"
      }
    }
  ]
}