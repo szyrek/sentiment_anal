{
  "nbformat": 4,
  "nbformat_minor": 0,
  "metadata": {
    "colab": {
      "provenance": [],
      "authorship_tag": "ABX9TyPkQcjyw6AF2UkFAIF1NzOU",
      "include_colab_link": true
    },
    "kernelspec": {
      "name": "python3",
      "display_name": "Python 3"
    },
    "language_info": {
      "name": "python"
    }
  },
  "cells": [
    {
      "cell_type": "markdown",
      "metadata": {
        "id": "view-in-github",
        "colab_type": "text"
      },
      "source": [
        "<a href=\"https://colab.research.google.com/github/szyrek/sentiment_anal/blob/main/Poker.ipynb\" target=\"_parent\"><img src=\"https://colab.research.google.com/assets/colab-badge.svg\" alt=\"Open In Colab\"/></a>"
      ]
    },
    {
      "cell_type": "code",
      "source": [
        "\n",
        "import itertools\n",
        "import pandas as pd\n",
        "import numpy as np\n",
        "\n",
        "# Define the deck of cards\n",
        "suits = ['Hearts', 'Diamonds', 'Clubs', 'Spades']\n",
        "ranks = ['2', '3', '4', '5', '6', '7', '8', '9', '10', 'Jack', 'Queen', 'King', 'Ace']\n",
        "deck = list(itertools.product(ranks, suits))\n",
        "\n",
        "class Card:\n",
        "    def __init__(self, rank, suit):\n",
        "        self.name = name\n",
        "        self.age = age\n",
        "\n",
        "# Generate all possible combinations of cards for the given number of players\n",
        "def generate_combinations(num_players):\n",
        "    dealt = list(itertools.combinations(deck, num_players*2))\n",
        "\n",
        "    print('dealt: '+str(len(dealt)))\n",
        "    print(str(dealt[0]))\n",
        "\n",
        "    remaining =\n",
        "\n",
        "    print('dealt: '+str(len(dealt)))    print(str(dealt[0]))\n",
        "\n",
        "\n",
        "generate_combinations(2)"
      ],
      "metadata": {
        "colab": {
          "base_uri": "https://localhost:8080/"
        },
        "id": "DNX8pI8GTxLH",
        "outputId": "860754fb-9243-4e87-ba48-3abb34f22a72"
      },
      "execution_count": null,
      "outputs": [
        {
          "output_type": "stream",
          "name": "stdout",
          "text": [
            "dealt: 270725\n",
            "(('2', 'Hearts'), ('2', 'Diamonds'), ('2', 'Clubs'), ('2', 'Spades'))\n"
          ]
        }
      ]
    },
    {
      "cell_type": "code",
      "execution_count": null,
      "metadata": {
        "colab": {
          "base_uri": "https://localhost:8080/",
          "height": 734
        },
        "id": "MnTG7_RgJf9v",
        "outputId": "ab927941-ea11-44e4-f344-680bc761b102"
      },
      "outputs": [
        {
          "output_type": "stream",
          "name": "stdout",
          "text": [
            "hands: 1326\n",
            "1\n"
          ]
        },
        {
          "output_type": "error",
          "ename": "KeyboardInterrupt",
          "evalue": "",
          "traceback": [
            "\u001b[0;31m---------------------------------------------------------------------------\u001b[0m",
            "\u001b[0;31mKeyboardInterrupt\u001b[0m                         Traceback (most recent call last)",
            "\u001b[0;32m<ipython-input-1-b0461af4c588>\u001b[0m in \u001b[0;36m<cell line: 41>\u001b[0;34m()\u001b[0m\n\u001b[1;32m     39\u001b[0m \u001b[0;31m# Example usage:\u001b[0m\u001b[0;34m\u001b[0m\u001b[0;34m\u001b[0m\u001b[0m\n\u001b[1;32m     40\u001b[0m \u001b[0mnum_players\u001b[0m \u001b[0;34m=\u001b[0m \u001b[0;36m4\u001b[0m\u001b[0;34m\u001b[0m\u001b[0;34m\u001b[0m\u001b[0m\n\u001b[0;32m---> 41\u001b[0;31m \u001b[0mall_combinations\u001b[0m \u001b[0;34m=\u001b[0m \u001b[0mgenerate_combinations\u001b[0m\u001b[0;34m(\u001b[0m\u001b[0mnum_players\u001b[0m\u001b[0;34m)\u001b[0m\u001b[0;34m\u001b[0m\u001b[0;34m\u001b[0m\u001b[0m\n\u001b[0m\u001b[1;32m     42\u001b[0m \u001b[0mdf\u001b[0m \u001b[0;34m=\u001b[0m \u001b[0mcombinations_to_dataframe\u001b[0m\u001b[0;34m(\u001b[0m\u001b[0mall_combinations\u001b[0m\u001b[0;34m)\u001b[0m\u001b[0;34m\u001b[0m\u001b[0;34m\u001b[0m\u001b[0m\n\u001b[1;32m     43\u001b[0m \u001b[0mprint\u001b[0m\u001b[0;34m(\u001b[0m\u001b[0mdf\u001b[0m\u001b[0;34m.\u001b[0m\u001b[0mhead\u001b[0m\u001b[0;34m(\u001b[0m\u001b[0;34m)\u001b[0m\u001b[0;34m)\u001b[0m\u001b[0;34m\u001b[0m\u001b[0;34m\u001b[0m\u001b[0m\n",
            "\u001b[0;32m<ipython-input-1-b0461af4c588>\u001b[0m in \u001b[0;36mgenerate_combinations\u001b[0;34m(num_players)\u001b[0m\n\u001b[1;32m     24\u001b[0m             \u001b[0mother_player_cards\u001b[0m \u001b[0;34m=\u001b[0m \u001b[0mlist\u001b[0m\u001b[0;34m(\u001b[0m\u001b[0mitertools\u001b[0m\u001b[0;34m.\u001b[0m\u001b[0mcombinations\u001b[0m\u001b[0;34m(\u001b[0m\u001b[0mremaining_deck\u001b[0m\u001b[0;34m,\u001b[0m \u001b[0;36m2\u001b[0m \u001b[0;34m*\u001b[0m \u001b[0;34m(\u001b[0m\u001b[0mnum_players\u001b[0m \u001b[0;34m-\u001b[0m \u001b[0;36m1\u001b[0m\u001b[0;34m)\u001b[0m\u001b[0;34m)\u001b[0m\u001b[0;34m)\u001b[0m\u001b[0;34m\u001b[0m\u001b[0;34m\u001b[0m\u001b[0m\n\u001b[1;32m     25\u001b[0m             \u001b[0;32mfor\u001b[0m \u001b[0mother_cards\u001b[0m \u001b[0;32min\u001b[0m \u001b[0mother_player_cards\u001b[0m\u001b[0;34m:\u001b[0m\u001b[0;34m\u001b[0m\u001b[0;34m\u001b[0m\u001b[0m\n\u001b[0;32m---> 26\u001b[0;31m                 \u001b[0mcombination\u001b[0m \u001b[0;34m=\u001b[0m \u001b[0;34m[\u001b[0m\u001b[0mlist\u001b[0m\u001b[0;34m(\u001b[0m\u001b[0mhand\u001b[0m\u001b[0;34m)\u001b[0m\u001b[0;34m]\u001b[0m \u001b[0;34m+\u001b[0m \u001b[0;34m[\u001b[0m\u001b[0mlist\u001b[0m\u001b[0;34m(\u001b[0m\u001b[0mshared\u001b[0m\u001b[0;34m)\u001b[0m\u001b[0;34m]\u001b[0m \u001b[0;34m+\u001b[0m \u001b[0;34m[\u001b[0m\u001b[0mlist\u001b[0m\u001b[0;34m(\u001b[0m\u001b[0mother_cards\u001b[0m\u001b[0;34m[\u001b[0m\u001b[0mi\u001b[0m\u001b[0;34m:\u001b[0m\u001b[0mi\u001b[0m\u001b[0;34m+\u001b[0m\u001b[0;36m2\u001b[0m\u001b[0;34m]\u001b[0m\u001b[0;34m)\u001b[0m \u001b[0;32mfor\u001b[0m \u001b[0mi\u001b[0m \u001b[0;32min\u001b[0m \u001b[0mrange\u001b[0m\u001b[0;34m(\u001b[0m\u001b[0;36m0\u001b[0m\u001b[0;34m,\u001b[0m \u001b[0mlen\u001b[0m\u001b[0;34m(\u001b[0m\u001b[0mother_cards\u001b[0m\u001b[0;34m)\u001b[0m\u001b[0;34m,\u001b[0m \u001b[0;36m2\u001b[0m\u001b[0;34m)\u001b[0m\u001b[0;34m]\u001b[0m\u001b[0;34m\u001b[0m\u001b[0;34m\u001b[0m\u001b[0m\n\u001b[0m\u001b[1;32m     27\u001b[0m                 \u001b[0mall_combinations\u001b[0m\u001b[0;34m.\u001b[0m\u001b[0mappend\u001b[0m\u001b[0;34m(\u001b[0m\u001b[0mcombination\u001b[0m\u001b[0;34m)\u001b[0m\u001b[0;34m\u001b[0m\u001b[0;34m\u001b[0m\u001b[0m\n\u001b[1;32m     28\u001b[0m \u001b[0;34m\u001b[0m\u001b[0m\n",
            "\u001b[0;31mKeyboardInterrupt\u001b[0m: "
          ]
        }
      ],
      "source": [
        "\n",
        "import itertools\n",
        "import pandas as pd\n",
        "import numpy as np\n",
        "\n",
        "# Define the deck of cards\n",
        "suits = ['Hearts', 'Diamonds', 'Clubs', 'Spades']\n",
        "ranks = ['2', '3', '4', '5', '6', '7', '8', '9', '10', 'Jack', 'Queen', 'King', 'Ace']\n",
        "deck = list(itertools.product(ranks, suits))\n",
        "\n",
        "# Generate all possible combinations of cards for the given number of players\n",
        "def generate_combinations(num_players):\n",
        "    player_hands = list(itertools.combinations(deck, 2))\n",
        "    shared_cards = list(itertools.combinations(deck, 5))\n",
        "    all_combinations = []\n",
        "\n",
        "    print('hands: '+str(len(player_hands)));\n",
        "    i = 1;\n",
        "\n",
        "    for hand in player_hands:\n",
        "        print(i)\n",
        "        i = i + 1;\n",
        "        for shared in shared_cards:\n",
        "            remaining_deck = [card for card in deck if card not in hand and card not in shared]\n",
        "            other_player_cards = list(itertools.combinations(remaining_deck, 2 * (num_players - 1)))\n",
        "            for other_cards in other_player_cards:\n",
        "                combination = [list(hand)] + [list(shared)] + [list(other_cards[i:i+2]) for i in range(0, len(other_cards), 2)]\n",
        "                all_combinations.append(combination)\n",
        "\n",
        "    return all_combinations\n",
        "\n",
        "# Convert combinations to DataFrame\n",
        "def combinations_to_dataframe(combinations):\n",
        "    columns = ['Player {} Card 1'.format(i) for i in range(1, num_players+1)] + \\\n",
        "              ['Player {} Card 2'.format(i) for i in range(1, num_players+1)] + \\\n",
        "              ['Shared Card {}'.format(i) for i in range(1, 6)]\n",
        "    df = pd.DataFrame(columns=columns, data=combinations)\n",
        "    return df\n",
        "\n",
        "# Example usage:\n",
        "num_players = 4\n",
        "all_combinations = generate_combinations(num_players)\n",
        "df = combinations_to_dataframe(all_combinations)\n",
        "print(df.head())"
      ]
    }
  ]
}