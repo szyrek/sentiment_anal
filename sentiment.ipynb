{
  "nbformat": 4,
  "nbformat_minor": 0,
  "metadata": {
    "colab": {
      "provenance": [],
      "gpuType": "T4",
      "authorship_tag": "ABX9TyOmF+gxndQC2JM7wjJsMqQ2",
      "include_colab_link": true
    },
    "kernelspec": {
      "name": "python3",
      "display_name": "Python 3"
    },
    "language_info": {
      "name": "python"
    },
    "accelerator": "GPU"
  },
  "cells": [
    {
      "cell_type": "markdown",
      "metadata": {
        "id": "view-in-github",
        "colab_type": "text"
      },
      "source": [
        "<a href=\"https://colab.research.google.com/github/szyrek/sentiment_anal/blob/main/sentiment.ipynb\" target=\"_parent\"><img src=\"https://colab.research.google.com/assets/colab-badge.svg\" alt=\"Open In Colab\"/></a>"
      ]
    },
    {
      "cell_type": "code",
      "source": [
        "# Install necessary libraries\n",
        "!pip install tensorflow\n",
        "!pip install nltk\n",
        "!pip install pandas\n",
        "!pip install numpy\n",
        "!pip install tensorflow-datasets"
      ],
      "metadata": {
        "id": "QLPAehdn2Djb"
      },
      "execution_count": null,
      "outputs": []
    },
    {
      "cell_type": "code",
      "source": [
        "# Import libraries\n",
        "import numpy as np\n",
        "import pandas as pd\n",
        "import tensorflow as tf\n",
        "import tensorflow_datasets as tfds\n",
        "from tensorflow.keras.preprocessing.text import Tokenizer\n",
        "from tensorflow.keras.preprocessing.sequence import pad_sequences\n",
        "from tensorflow.keras.models import Sequential\n",
        "from tensorflow.keras.layers import Dense, Embedding, LSTM, Dropout\n",
        "from tensorflow.keras.callbacks import EarlyStopping\n",
        "from tensorflow.keras.regularizers import l2\n",
        "\n",
        "import nltk\n",
        "nltk.download('stopwords')\n",
        "nltk.download('wordnet')\n",
        "nltk.download('omw-1.4')  # Download the Open Multilingual WordNet\n",
        "nltk.download('punkt')\n",
        "from nltk.corpus import stopwords\n",
        "from nltk.stem import WordNetLemmatizer\n",
        "from nltk.tokenize import word_tokenize\n",
        "from sklearn.model_selection import train_test_split\n",
        "\n",
        "import json\n",
        "\n",
        "from google.colab import drive"
      ],
      "metadata": {
        "id": "fRlHEkQF2Kq-"
      },
      "execution_count": null,
      "outputs": []
    },
    {
      "cell_type": "code",
      "source": [
        "num_epochs = 10\n",
        "cpu_batch = 64\n",
        "gpu_batch = 1024\n",
        "early_patience = 5\n",
        "lstm_units = 64\n",
        "model_name = '10epochs'\n",
        "stop_words = set(stopwords.words('english'))\n",
        "lemmatizer = WordNetLemmatizer()"
      ],
      "metadata": {
        "id": "HMkh0wRJt3al"
      },
      "execution_count": 84,
      "outputs": []
    },
    {
      "cell_type": "code",
      "source": [
        "# Make sure we use correct TensorFlow version and we're running on GPU\n",
        "print(\"TensorFlow version:\", tf.__version__)\n",
        "gpus = len(tf.config.experimental.list_physical_devices('GPU'))\n",
        "print(\"Num GPUs Available: \", gpus)\n",
        "\n",
        "# This will print the name and type of all available devices\n",
        "print(\"Device List:\", tf.config.experimental.list_physical_devices())\n",
        "\n",
        "# Set batch size accordingly\n",
        "if gpus > 0:\n",
        "    reasonable_batch=gpu_batch\n",
        "else:\n",
        "    reasonable_batch=cpu_batch\n",
        "\n",
        "print(\"Setting training batch_size to:\", reasonable_batch)"
      ],
      "metadata": {
        "id": "zPrkKirnNOuG"
      },
      "execution_count": null,
      "outputs": []
    },
    {
      "cell_type": "code",
      "source": [
        "# Load IMDb dataset\n",
        "dataset, info = tfds.load('imdb_reviews', with_info=True, as_supervised=True)\n",
        "train_dataset, test_dataset = dataset['train'], dataset['test']\n",
        "\n",
        "# Prepare data for training\n",
        "# TensorFlow Datasets provides the IMDb reviews in a tensor format. We need to convert these into numpy arrays and then into a format suitable for our model\n",
        "train_data = tfds.as_numpy(train_dataset)\n",
        "test_data = tfds.as_numpy(test_dataset)"
      ],
      "metadata": {
        "id": "Sua3oqon2RHt"
      },
      "execution_count": 74,
      "outputs": []
    },
    {
      "cell_type": "code",
      "source": [
        "# Initialize lists to hold processed texts and labels\n",
        "train_texts, train_labels = [], []\n",
        "test_texts, test_labels = [], []\n",
        "\n",
        "# Extract texts and labels from the training and test datasets correctly\n",
        "for text, label in train_data:\n",
        "    train_texts.append(text.decode('utf-8'))  # Decode bytes to string\n",
        "    train_labels.append(label)\n",
        "\n",
        "for text, label in test_data:\n",
        "    test_texts.append(text.decode('utf-8'))  # Decode bytes to string\n",
        "    test_labels.append(label)\n",
        "\n",
        "# Convert labels into numpy arrays\n",
        "train_labels = np.array(train_labels)\n",
        "test_labels = np.array(test_labels)"
      ],
      "metadata": {
        "id": "o2WUkpNT2cQl"
      },
      "execution_count": 75,
      "outputs": []
    },
    {
      "cell_type": "code",
      "source": [
        "# Lemmatizing text data\n",
        "def preprocess_text_with_lemmatization(text):\n",
        "    # Tokenize the text into words\n",
        "    words = word_tokenize(text)\n",
        "\n",
        "    # Lemmatize each word\n",
        "    lemmatized_words = [lemmatizer.lemmatize(word.lower()) for word in words if word.isalpha()]  # isalpha() to remove punctuation\n",
        "    return \" \".join(lemmatized_words)\n",
        "\n",
        "# Applying lemmatization to the 'text' column of the dataset\n",
        "train_texts = [preprocess_text_with_lemmatization(text) for text in train_texts]\n",
        "test_texts = [preprocess_text_with_lemmatization(text) for text in test_texts]"
      ],
      "metadata": {
        "id": "EakWI4zxhve_"
      },
      "execution_count": 67,
      "outputs": []
    },
    {
      "cell_type": "code",
      "source": [
        "# Filtering out stopwords\n",
        "filtered_train_texts = []\n",
        "filtered_test_texts = []\n",
        "\n",
        "for text in lemmatized_train_texts:\n",
        "    words = text.split()\n",
        "    words_filtered = [word for word in words if word.lower() not in stop_words]\n",
        "    filtered_train_texts.append(\" \".join(words_filtered))\n",
        "\n",
        "for text in lemmatized_test_texts:\n",
        "    words = text.split()\n",
        "    words_filtered = [word for word in words if word.lower() not in stop_words]\n",
        "    filtered_test_texts.append(\" \".join(words_filtered))\n",
        "\n",
        "train_texts = filtered_train_texts\n",
        "test_texts = filtered_test_texts"
      ],
      "metadata": {
        "id": "bSJECTRTpuDq"
      },
      "execution_count": 68,
      "outputs": []
    },
    {
      "cell_type": "code",
      "source": [
        "# Final tokenization and padding\n",
        "tokenizer = Tokenizer(num_words=5000)\n",
        "tokenizer.fit_on_texts(train_texts)\n",
        "train_sequences = tokenizer.texts_to_sequences(train_texts)\n",
        "test_sequences = tokenizer.texts_to_sequences(test_texts)\n",
        "\n",
        "train_padded = pad_sequences(train_sequences, maxlen=200)\n",
        "test_padded = pad_sequences(test_sequences, maxlen=200)"
      ],
      "metadata": {
        "id": "VdYeH6aC2r0h"
      },
      "execution_count": 76,
      "outputs": []
    },
    {
      "cell_type": "code",
      "source": [
        "# Building simplest model\n",
        "model = Sequential([\n",
        "    Embedding(5000, 128, input_length=200),\n",
        "    LSTM(lstm_units, dropout=0.2, recurrent_dropout=0.2),\n",
        "    Dense(1, activation='sigmoid')\n",
        "])\n",
        "\n",
        "model.compile(optimizer='adam', loss='binary_crossentropy', metrics=['accuracy'])"
      ],
      "metadata": {
        "id": "ygZp73bt47Xd"
      },
      "execution_count": null,
      "outputs": []
    },
    {
      "cell_type": "code",
      "source": [
        "# Building model with dropout layer\n",
        "model = Sequential([\n",
        "    Embedding(5000, 128, input_length=200),\n",
        "    LSTM(lstm_units, dropout=0.2, recurrent_dropout=0.2),\n",
        "    Dropout(0.5),  # dropout layer to prevent overfiting\n",
        "    Dense(1, activation='sigmoid')\n",
        "])\n",
        "\n",
        "model.compile(optimizer='adam', loss='binary_crossentropy', metrics=['accuracy'])"
      ],
      "metadata": {
        "id": "pNpG9ajs25-t",
        "outputId": "47fe59ba-861a-4ab1-d305-447fc204a74c",
        "colab": {
          "base_uri": "https://localhost:8080/"
        }
      },
      "execution_count": 53,
      "outputs": [
        {
          "output_type": "stream",
          "name": "stderr",
          "text": [
            "WARNING:tensorflow:Layer lstm_8 will not use cuDNN kernels since it doesn't meet the criteria. It will use a generic GPU kernel as fallback when running on GPU.\n"
          ]
        }
      ]
    },
    {
      "cell_type": "code",
      "source": [
        "# Building model with dropout and l2 regularization\n",
        "model = Sequential([\n",
        "    Embedding(5000, 128, input_length=200),\n",
        "    LSTM(lstm_units, dropout=0.2, recurrent_dropout=0.2),\n",
        "    Dropout(0.5),  # dropout layer to prevent overfiting\n",
        "    Dense(64, activation='relu', kernel_regularizer=l2(0.01))\n",
        "])\n",
        "\n",
        "model.compile(optimizer='adam', loss='binary_crossentropy', metrics=['accuracy'])"
      ],
      "metadata": {
        "id": "TEoOmhWk5Ijn"
      },
      "execution_count": null,
      "outputs": []
    },
    {
      "cell_type": "code",
      "source": [
        "# Train the model\n",
        "model.fit(train_padded, train_labels, batch_size=reasonable_batch, epochs=num_epochs, validation_data=(test_padded, test_labels))"
      ],
      "metadata": {
        "id": "ql1u9pfK28VC"
      },
      "execution_count": null,
      "outputs": []
    },
    {
      "cell_type": "code",
      "source": [
        "# Train with early stopping\n",
        "\n",
        "# Initialize early stopping\n",
        "early_stopping = EarlyStopping(monitor='val_loss', patience=early_patience)\n",
        "\n",
        "# Include early stopping in the fit function\n",
        "model.fit(train_padded, train_labels, batch_size=reasonable_batch, epochs=num_epochs, validation_data=(test_padded, test_labels), callbacks=[early_stopping])"
      ],
      "metadata": {
        "id": "60LerZcz09Wp"
      },
      "execution_count": null,
      "outputs": []
    },
    {
      "cell_type": "code",
      "source": [
        "# Mount Google Drive\n",
        "\n",
        "drive.mount('/content/drive')"
      ],
      "metadata": {
        "id": "I_MQFcdrDRTk"
      },
      "execution_count": null,
      "outputs": []
    },
    {
      "cell_type": "code",
      "source": [
        "# Save the model\n",
        "model_save_path = \"/content/drive/My Drive/\" + model_name + \".h5\"\n",
        "model.save(model_save_path)\n",
        "\n",
        "# Save tokenizer\n",
        "tokenizer_json = tokenizer.to_json()\n",
        "with open(\"/content/drive/My Drive/\" + model_name + \"_tokenizer.json\", 'w', encoding='utf-8') as f:\n",
        "    f.write(json.dumps(tokenizer_json, ensure_ascii=False))"
      ],
      "metadata": {
        "id": "o8LT1g5fENXg"
      },
      "execution_count": 92,
      "outputs": []
    },
    {
      "cell_type": "code",
      "source": [
        "from tensorflow.keras.models import load_model\n",
        "from tensorflow.keras.preprocessing.text import tokenizer_from_json\n",
        "\n",
        "# Load the model\n",
        "model = load_model(\"/content/drive/My Drive/\" + model_name + \".h5\")\n",
        "\n",
        "# Load the tokenizer\n",
        "with open(\"/content/drive/My Drive/\" + model_name + \"_tokenizer.json\") as f:\n",
        "    data = json.load(f)\n",
        "    tokenizer = tokenizer_from_json(data)"
      ],
      "metadata": {
        "id": "clEj06THDTqx"
      },
      "execution_count": null,
      "outputs": []
    },
    {
      "cell_type": "code",
      "execution_count": null,
      "metadata": {
        "id": "PCkm4vBs1sVH"
      },
      "outputs": [],
      "source": [
        "# Evaluate the model\n",
        "scores = model.evaluate(test_padded, test_labels)\n",
        "print(f\"Test Accuracy: {scores[1]*100}%\")"
      ]
    },
    {
      "cell_type": "code",
      "source": [
        "# Evaluate single text\n",
        "text = \"I wanted to pee almost since the beginning, but it was too captivating to miss any minute of it. Great flick, loved it!\"\n",
        "\n",
        "def preprocess_text(text):\n",
        "    # Lemmatize the input text\n",
        "    words = word_tokenize(text)\n",
        "    lemmatized_words = [lemmatizer.lemmatize(word.lower()) for word in words if word.isalpha()]  # Remove punctuation\n",
        "    # Filter stopwords\n",
        "    filtered_words = [word for word in lemmatized_words if word.lower() not in stop_words]\n",
        "    # Tokenize using current tokenizer\n",
        "    tokenized_text = tokenizer.texts_to_sequences([\" \".join(filtered_words)])\n",
        "    #Apply padding\n",
        "    padded_text = pad_sequences(tokenized_text, maxlen=200)  # Use the same maxlen as during training\n",
        "    return padded_text\n",
        "\n",
        "# Preprocess the text\n",
        "processed_text = preprocess_text(text)\n",
        "\n",
        "# Predict (use the loaded model if you're in a new session)\n",
        "prediction = model.predict(processed_text)\n",
        "\n",
        "print(\"Prediction (closer to 1 means positive sentiment):\", prediction[0][0])"
      ],
      "metadata": {
        "id": "5vkFIExhDSaD"
      },
      "execution_count": null,
      "outputs": []
    }
  ]
}